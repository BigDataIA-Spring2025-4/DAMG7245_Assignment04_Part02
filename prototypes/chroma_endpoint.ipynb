{
 "cells": [
  {
   "cell_type": "code",
   "execution_count": 1,
   "metadata": {},
   "outputs": [],
   "source": [
    "import os\n",
    "import spacy\n",
    "import chromadb\n",
    "import chromadb.utils.embedding_functions as embedding_functions"
   ]
  },
  {
   "cell_type": "code",
   "execution_count": 2,
   "metadata": {},
   "outputs": [],
   "source": [
    "from s3 import S3FileManager\n",
    "\n",
    "AWS_BUCKET = os.getenv(\"AWS_BUCKET_NAME\")"
   ]
  },
  {
   "cell_type": "code",
   "execution_count": 4,
   "metadata": {},
   "outputs": [],
   "source": [
    "AWS_BUCKET = os.getenv(\"AWS_BUCKET_NAME\")\n",
    "S3_PREFIX = \"documents/\"\n",
    "OPENAI_API_KEY = os.getenv(\"OPENAI_API_KEY\")\n",
    "EMBEDDING_MODEL = \"text-embedding-3-small\""
   ]
  },
  {
   "cell_type": "code",
   "execution_count": 3,
   "metadata": {},
   "outputs": [],
   "source": [
    "doc1 = \"\"\"\n",
    "output values. These are concatenated and once again projected, resulting in the final values, as depicted in Figure 2.\n",
    "\n",
    "Multi-head attention allows the model to jointly attend to information from different representation subspaces at different positions. With a single attention head, averaging inhibits this.\n",
    "\n",
    "<!-- formula-not-decoded -->\n",
    "\n",
    "<!-- formula-not-decoded -->\n",
    "\n",
    "Where the projections are parameter matrices W Q i ∈ R d model × d k , W K i ∈ R d model × d k , W V i ∈ R d model × d v and W O ∈ R hd v × d model .\n",
    "\n",
    "In this work we employ h = 8 parallel attention layers, or heads. For each of these we use d k = d v = d model /h = 64 . Due to the reduced dimension of each head, the total computational cost is similar to that of single-head attention with full dimensionality.\n",
    "\n",
    "## 3.2.3 Applications of Attention in our Model\n",
    "\n",
    "The Transformer uses multi-head attention in three different ways:\n",
    "\n",
    "- · In \"encoder-decoder attention\" layers, the queries come from the previous decoder layer, and the memory keys and values come from the output of the encoder. This allows every position in the decoder to attend over all positions in the input sequence. This mimics the typical encoder-decoder attention mechanisms in sequence-to-sequence models such as [38, 2, 9].\n",
    "- · The encoder contains self-attention layers. In a self-attention layer all of the keys, values and queries come from the same place, in this case, the output of the previous layer in the encoder. Each position in the encoder can attend to all positions in the previous layer of the encoder.\n",
    "- · Similarly, self-attention layers in the decoder allow each position in the decoder to attend to all positions in the decoder up to and including that position. We need to prevent leftward information flow in the decoder to preserve the auto-regressive property. We implement this inside of scaled dot-product attention by masking out (setting to -∞ ) all values in the input of the softmax which correspond to illegal connections. See Figure 2.\n",
    "\n",
    "## 3.3 Position-wise Feed-Forward Networks\n",
    "\n",
    "In addition to attention sub-layers, each of the layers in our encoder and decoder contains a fully connected feed-forward network, which is applied to each position separately and identically. This consists of two linear transformations with a ReLU activation in between.\n",
    "\n",
    "<!-- formula-not-decoded -->\n",
    "\n",
    "While the linear transformations are the same across different positions, they use different parameters from layer to layer. Another way of describing this is as two convolutions with kernel size 1. The dimensionality of input and output is d model = 512 , and the inner-layer has dimensionality d ff = 2048 .\n",
    "\n",
    "## 3.4 Embeddings and Softmax\n",
    "\n",
    "Similarly to other sequence transduction models, we use learned embeddings to convert the input tokens and output tokens to vectors of dimension d model. We also use the usual learned linear transformation and softmax function to convert the decoder output to predicted next-token probabilities. In our model, we share the same weight matrix between the two embedding layers and the pre-softmax linear transformation, similar to [30]. In the embedding layers, we multiply those weights by √ d model.\n",
    "\"\"\""
   ]
  },
  {
   "cell_type": "code",
   "execution_count": 4,
   "metadata": {},
   "outputs": [],
   "source": [
    "documents = [doc1]"
   ]
  },
  {
   "cell_type": "code",
   "execution_count": 5,
   "metadata": {},
   "outputs": [],
   "source": [
    "def semantic_chunking(text, max_sentences=5):\n",
    "    nlp = spacy.load(\"en_core_web_sm\")\n",
    "    doc = nlp(text)\n",
    "    sentences = [sent.text for sent in doc.sents]\n",
    "    \n",
    "    chunks = []\n",
    "    current_chunk = []\n",
    "    for i, sent in enumerate(sentences):\n",
    "        current_chunk.append(sent)\n",
    "        if (i + 1) % max_sentences == 0:\n",
    "            chunks.append(\" \".join(current_chunk))\n",
    "            current_chunk = []\n",
    "    \n",
    "    if current_chunk:\n",
    "        chunks.append(\" \".join(current_chunk))\n",
    "    \n",
    "    return chunks"
   ]
  },
  {
   "cell_type": "code",
   "execution_count": 7,
   "metadata": {},
   "outputs": [
    {
     "data": {
      "text/plain": [
       "'= 64 . Due to the reduced dimension of each head, the total computational cost is similar to that of single-head attention with full dimensionality.\\n\\n ## 3.2.3 Applications of Attention in our Model\\n\\nThe Transformer uses multi-head attention in three different ways:\\n\\n- · In \"encoder-decoder attention\" layers, the queries come from the previous decoder layer, and the memory keys and values come from the output of the encoder. This allows every position in the decoder to attend over all positions in the input sequence.'"
      ]
     },
     "execution_count": 7,
     "metadata": {},
     "output_type": "execute_result"
    }
   ],
   "source": [
    "semantic_chunks = semantic_chunking(doc1)\n",
    "semantic_chunks[2]"
   ]
  },
  {
   "cell_type": "code",
   "execution_count": 6,
   "metadata": {},
   "outputs": [],
   "source": [
    "def generate_embeddings(texts):\n",
    "    openai_ef = embedding_functions.OpenAIEmbeddingFunction(\n",
    "                api_key=OPENAI_API_KEY,\n",
    "                model_name=\"text-embedding-3-small\"\n",
    "            )\n",
    "    return openai_ef(texts)"
   ]
  },
  {
   "cell_type": "code",
   "execution_count": 9,
   "metadata": {},
   "outputs": [],
   "source": [
    "value = generate_embeddings(semantic_chunks)\n"
   ]
  },
  {
   "cell_type": "code",
   "execution_count": 10,
   "metadata": {},
   "outputs": [
    {
     "data": {
      "text/plain": [
       "[array([ 0.04584392,  0.02012629,  0.08212437, ..., -0.00191965,\n",
       "         0.00995562,  0.00498413], shape=(1536,), dtype=float32),\n",
       " array([ 0.00951175,  0.01475875,  0.02481758, ...,  0.0153307 ,\n",
       "        -0.00456315,  0.01047536], shape=(1536,), dtype=float32),\n",
       " array([ 0.02812611,  0.01595369,  0.06689579, ..., -0.00772593,\n",
       "         0.04551528,  0.03916648], shape=(1536,), dtype=float32),\n",
       " array([ 0.06543998,  0.00956596, -0.00124241, ..., -0.0101656 ,\n",
       "         0.03213166,  0.00421162], shape=(1536,), dtype=float32),\n",
       " array([ 0.03179673, -0.03211245,  0.03272132, ...,  0.00229032,\n",
       "        -0.00096757,  0.04713133], shape=(1536,), dtype=float32),\n",
       " array([ 0.01797471, -0.02583332,  0.00384412, ..., -0.01113836,\n",
       "         0.00710789,  0.0187414 ], shape=(1536,), dtype=float32),\n",
       " array([ 0.02663533, -0.00029789,  0.04269256, ..., -0.01071228,\n",
       "        -0.02023927,  0.01938944], shape=(1536,), dtype=float32)]"
      ]
     },
     "execution_count": 10,
     "metadata": {},
     "output_type": "execute_result"
    }
   ],
   "source": [
    "value"
   ]
  },
  {
   "cell_type": "markdown",
   "metadata": {},
   "source": [
    "## Test"
   ]
  },
  {
   "cell_type": "code",
   "execution_count": 7,
   "metadata": {},
   "outputs": [
    {
     "ename": "NameError",
     "evalue": "name 'OPENAI_API_KEY' is not defined",
     "output_type": "error",
     "traceback": [
      "\u001b[1;31m---------------------------------------------------------------------------\u001b[0m",
      "\u001b[1;31mNameError\u001b[0m                                 Traceback (most recent call last)",
      "Cell \u001b[1;32mIn[7], line 6\u001b[0m\n\u001b[0;32m      4\u001b[0m \u001b[38;5;28;01mfor\u001b[39;00m doc \u001b[38;5;129;01min\u001b[39;00m documents:\n\u001b[0;32m      5\u001b[0m     semantic_chunks \u001b[38;5;241m=\u001b[39m semantic_chunking(doc)\n\u001b[1;32m----> 6\u001b[0m     embeddings \u001b[38;5;241m=\u001b[39m \u001b[43mgenerate_embeddings\u001b[49m\u001b[43m(\u001b[49m\u001b[43msemantic_chunks\u001b[49m\u001b[43m)\u001b[49m\n\u001b[0;32m      7\u001b[0m     ids \u001b[38;5;241m=\u001b[39m [\u001b[38;5;124mf\u001b[39m\u001b[38;5;124m\"\u001b[39m\u001b[38;5;124mid_\u001b[39m\u001b[38;5;132;01m{\u001b[39;00mi\u001b[38;5;132;01m}\u001b[39;00m\u001b[38;5;124m\"\u001b[39m \u001b[38;5;28;01mfor\u001b[39;00m i \u001b[38;5;129;01min\u001b[39;00m \u001b[38;5;28mrange\u001b[39m(\u001b[38;5;28mlen\u001b[39m(semantic_chunks))]\n\u001b[0;32m      8\u001b[0m     collection\u001b[38;5;241m.\u001b[39madd(\n\u001b[0;32m      9\u001b[0m         documents\u001b[38;5;241m=\u001b[39msemantic_chunks,\n\u001b[0;32m     10\u001b[0m         ids\u001b[38;5;241m=\u001b[39mids,\n\u001b[0;32m     11\u001b[0m         embeddings\u001b[38;5;241m=\u001b[39membeddings,\n\u001b[0;32m     12\u001b[0m     )\n",
      "Cell \u001b[1;32mIn[6], line 3\u001b[0m, in \u001b[0;36mgenerate_embeddings\u001b[1;34m(texts)\u001b[0m\n\u001b[0;32m      1\u001b[0m \u001b[38;5;28;01mdef\u001b[39;00m\u001b[38;5;250m \u001b[39m\u001b[38;5;21mgenerate_embeddings\u001b[39m(texts):\n\u001b[0;32m      2\u001b[0m     openai_ef \u001b[38;5;241m=\u001b[39m embedding_functions\u001b[38;5;241m.\u001b[39mOpenAIEmbeddingFunction(\n\u001b[1;32m----> 3\u001b[0m                 api_key\u001b[38;5;241m=\u001b[39m\u001b[43mOPENAI_API_KEY\u001b[49m,\n\u001b[0;32m      4\u001b[0m                 model_name\u001b[38;5;241m=\u001b[39m\u001b[38;5;124m\"\u001b[39m\u001b[38;5;124mtext-embedding-3-small\u001b[39m\u001b[38;5;124m\"\u001b[39m\n\u001b[0;32m      5\u001b[0m             )\n\u001b[0;32m      6\u001b[0m     \u001b[38;5;28;01mreturn\u001b[39;00m openai_ef(texts)\n",
      "\u001b[1;31mNameError\u001b[0m: name 'OPENAI_API_KEY' is not defined"
     ]
    }
   ],
   "source": [
    "chroma_client = chromadb.PersistentClient(path=\"./db/\")\n",
    "collection = chroma_client.get_or_create_collection(\"nvidia_document_chunks\") # Create the collection once\n",
    "\n",
    "for doc in documents:\n",
    "    semantic_chunks = semantic_chunking(doc)\n",
    "    embeddings = generate_embeddings(semantic_chunks)\n",
    "    ids = [f\"id_{i}\" for i in range(len(semantic_chunks))]\n",
    "    collection.add(\n",
    "        documents=semantic_chunks,\n",
    "        ids=ids,\n",
    "        embeddings=embeddings,\n",
    "    )"
   ]
  },
  {
   "cell_type": "code",
   "execution_count": 28,
   "metadata": {},
   "outputs": [
    {
     "name": "stdout",
     "output_type": "stream",
     "text": [
      "{'data': None,\n",
      " 'distances': [[0.5198990702629089, 0.9386508464813232]],\n",
      " 'documents': [['= 64 . Due to the reduced dimension of each head, the total '\n",
      "                'computational cost is similar to that of single-head '\n",
      "                'attention with full dimensionality.\\n'\n",
      "                '\\n'\n",
      "                ' ## 3.2.3 Applications of Attention in our Model\\n'\n",
      "                '\\n'\n",
      "                'The Transformer uses multi-head attention in three different '\n",
      "                'ways:\\n'\n",
      "                '\\n'\n",
      "                '- · In \"encoder-decoder attention\" layers, the queries come '\n",
      "                'from the previous decoder layer, and the memory keys and '\n",
      "                'values come from the output of the encoder. This allows every '\n",
      "                'position in the decoder to attend over all positions in the '\n",
      "                'input sequence.',\n",
      "                'This mimics the typical encoder-decoder attention mechanisms '\n",
      "                'in sequence-to-sequence models such as [38, 2, 9].\\n'\n",
      "                '- · The encoder contains self-attention layers. In a '\n",
      "                'self-attention layer all of the keys, values and queries come '\n",
      "                'from the same place, in this case, the output of the previous '\n",
      "                'layer in the encoder. Each position in the encoder can attend '\n",
      "                'to all positions in the previous layer of the encoder.\\n'\n",
      "                '- · Similarly, self-attention layers in the decoder allow '\n",
      "                'each position in the decoder to attend to all positions in '\n",
      "                'the decoder up to and including that position. We need to '\n",
      "                'prevent leftward information flow in the decoder to preserve '\n",
      "                'the auto-regressive property. We implement this inside of '\n",
      "                'scaled dot-product attention by masking out (setting to -∞ '\n",
      "                ')']],\n",
      " 'embeddings': None,\n",
      " 'ids': [['id_2', 'id_3']],\n",
      " 'included': [<IncludeEnum.distances: 'distances'>,\n",
      "              <IncludeEnum.documents: 'documents'>,\n",
      "              <IncludeEnum.metadatas: 'metadatas'>],\n",
      " 'metadatas': [[None, None]],\n",
      " 'uris': None}\n"
     ]
    }
   ],
   "source": [
    "from pprint import pprint\n",
    "\n",
    "query = [\"multi-head attention in transformers\"]\n",
    "query_embeddings = generate_embeddings(query)\n",
    "results = collection.query(\n",
    "    query_embeddings=query_embeddings,\n",
    "    n_results=2, # how many results to return\n",
    "    where_document={'$contains': 'encoder'}\n",
    ")\n",
    "\n",
    "pprint(results)"
   ]
  },
  {
   "cell_type": "code",
   "execution_count": 18,
   "metadata": {},
   "outputs": [],
   "source": [
    "openai_ef = embedding_functions.OpenAIEmbeddingFunction(\n",
    "                api_key=OPENAI_API_KEY,\n",
    "                model_name=\"text-embedding-3-small\"\n",
    "            )\n",
    "test_out = openai_ef([\"multi-head attention in transformers\"])"
   ]
  },
  {
   "cell_type": "code",
   "execution_count": 20,
   "metadata": {},
   "outputs": [
    {
     "name": "stdout",
     "output_type": "stream",
     "text": [
      "<class 'list'>\n"
     ]
    },
    {
     "data": {
      "text/plain": [
       "[array([ 0.01688255,  0.0042638 ,  0.04444465, ..., -0.00435012,\n",
       "         0.05998301,  0.01123448], shape=(1536,), dtype=float32)]"
      ]
     },
     "execution_count": 20,
     "metadata": {},
     "output_type": "execute_result"
    }
   ],
   "source": [
    "print(type(test_out))\n",
    "test_out"
   ]
  },
  {
   "cell_type": "code",
   "execution_count": 13,
   "metadata": {},
   "outputs": [
    {
     "name": "stdout",
     "output_type": "stream",
     "text": [
      "[array([ 0.0238633 ,  0.0172598 , -0.01232843, ..., -0.02780273,\n",
      "        0.00091489,  0.00114959], shape=(1536,), dtype=float32),\n",
      " array([ 0.01288096,  0.01655534,  0.03272534, ..., -0.03101889,\n",
      "       -0.00297081,  0.00994971], shape=(1536,), dtype=float32),\n",
      " array([-0.00323648, -0.01886252, -0.02487887, ..., -0.0026264 ,\n",
      "        0.0031348 ,  0.01547831], shape=(1536,), dtype=float32),\n",
      " array([-0.01111129,  0.01217269, -0.00390046, ...,  0.00372232,\n",
      "        0.01585419,  0.01134139], shape=(1536,), dtype=float32),\n",
      " array([ 0.01967479,  0.01060167, -0.00828781, ..., -0.02843939,\n",
      "       -0.01295759,  0.01723472], shape=(1536,), dtype=float32),\n",
      " array([ 0.02252617,  0.01233576,  0.01070343, ..., -0.00250485,\n",
      "       -0.00036557,  0.03681295], shape=(1536,), dtype=float32),\n",
      " array([ 0.01368417,  0.00645424,  0.01940664, ..., -0.02777813,\n",
      "       -0.02600724,  0.01240357], shape=(1536,), dtype=float32),\n",
      " array([ 0.0197254 , -0.00858011, -0.01231732, ..., -0.01707176,\n",
      "        0.01143277,  0.04608491], shape=(1536,), dtype=float32),\n",
      " array([ 0.02673379,  0.00864542, -0.00904419, ..., -0.02875957,\n",
      "       -0.01120554,  0.00244648], shape=(1536,), dtype=float32),\n",
      " array([ 0.04425313,  0.03368292,  0.01770433, ..., -0.01135604,\n",
      "        0.01155635,  0.05124858], shape=(1536,), dtype=float32),\n",
      " array([-0.01383352, -0.00272705,  0.01434057, ..., -0.01436658,\n",
      "       -0.01574473,  0.02574282], shape=(1536,), dtype=float32),\n",
      " array([ 0.02673379,  0.00864542, -0.00904419, ..., -0.02875957,\n",
      "       -0.01120554,  0.00244648], shape=(1536,), dtype=float32),\n",
      " array([-0.01111129,  0.01217269, -0.00390046, ...,  0.00372232,\n",
      "        0.01585419,  0.01134139], shape=(1536,), dtype=float32),\n",
      " array([-0.01111129,  0.01217269, -0.00390046, ...,  0.00372232,\n",
      "        0.01585419,  0.01134139], shape=(1536,), dtype=float32),\n",
      " array([ 0.0197254 , -0.00858011, -0.01231732, ..., -0.01707176,\n",
      "        0.01143277,  0.04608491], shape=(1536,), dtype=float32),\n",
      " array([ 0.02665598,  0.04401639,  0.0060052 , ..., -0.02542526,\n",
      "        0.01624552,  0.02050237], shape=(1536,), dtype=float32),\n",
      " array([-0.01111129,  0.01217269, -0.00390046, ...,  0.00372232,\n",
      "        0.01585419,  0.01134139], shape=(1536,), dtype=float32),\n",
      " array([ 0.01967479,  0.01060167, -0.00828781, ..., -0.02843939,\n",
      "       -0.01295759,  0.01723472], shape=(1536,), dtype=float32),\n",
      " array([ 0.01318817,  0.01947925, -0.00897489, ..., -0.00907589,\n",
      "        0.00288582,  0.01397456], shape=(1536,), dtype=float32),\n",
      " array([ 0.02665598,  0.04401639,  0.0060052 , ..., -0.02542526,\n",
      "        0.01624552,  0.02050237], shape=(1536,), dtype=float32),\n",
      " array([-0.01383352, -0.00272705,  0.01434057, ..., -0.01436658,\n",
      "       -0.01574473,  0.02574282], shape=(1536,), dtype=float32),\n",
      " array([ 0.01967479,  0.01060167, -0.00828781, ..., -0.02843939,\n",
      "       -0.01295759,  0.01723472], shape=(1536,), dtype=float32),\n",
      " array([ 0.02665598,  0.04401639,  0.0060052 , ..., -0.02542526,\n",
      "        0.01624552,  0.02050237], shape=(1536,), dtype=float32),\n",
      " array([-0.01383352, -0.00272705,  0.01434057, ..., -0.01436658,\n",
      "       -0.01574473,  0.02574282], shape=(1536,), dtype=float32),\n",
      " array([-0.01111129,  0.01217269, -0.00390046, ...,  0.00372232,\n",
      "        0.01585419,  0.01134139], shape=(1536,), dtype=float32),\n",
      " array([-0.02005558,  0.04284881,  0.00324135, ..., -0.02763795,\n",
      "        0.0176563 , -0.00044554], shape=(1536,), dtype=float32),\n",
      " array([ 0.02673379,  0.00864542, -0.00904419, ..., -0.02875957,\n",
      "       -0.01120554,  0.00244648], shape=(1536,), dtype=float32),\n",
      " array([ 0.02665598,  0.04401639,  0.0060052 , ..., -0.02542526,\n",
      "        0.01624552,  0.02050237], shape=(1536,), dtype=float32),\n",
      " array([ 0.01872031,  0.01570892,  0.0016648 , ..., -0.01003539,\n",
      "       -0.01036913,  0.00786222], shape=(1536,), dtype=float32),\n",
      " array([-0.02739454,  0.03113355, -0.00447265, ..., -0.00505734,\n",
      "        0.01935047,  0.01967819], shape=(1536,), dtype=float32),\n",
      " array([ 0.01318817,  0.01947925, -0.00897489, ..., -0.00907589,\n",
      "        0.00288582,  0.01397456], shape=(1536,), dtype=float32),\n",
      " array([-0.02005558,  0.04284881,  0.00324135, ..., -0.02763795,\n",
      "        0.0176563 , -0.00044554], shape=(1536,), dtype=float32),\n",
      " array([ 0.0238633 ,  0.0172598 , -0.01232843, ..., -0.02780273,\n",
      "        0.00091489,  0.00114959], shape=(1536,), dtype=float32),\n",
      " array([ 0.0197254 , -0.00858011, -0.01231732, ..., -0.01707176,\n",
      "        0.01143277,  0.04608491], shape=(1536,), dtype=float32),\n",
      " array([-0.02005558,  0.04284881,  0.00324135, ..., -0.02763795,\n",
      "        0.0176563 , -0.00044554], shape=(1536,), dtype=float32),\n",
      " array([ 0.01872031,  0.01570892,  0.0016648 , ..., -0.01003539,\n",
      "       -0.01036913,  0.00786222], shape=(1536,), dtype=float32)]\n"
     ]
    }
   ],
   "source": [
    "pprint(query_embeddings)"
   ]
  },
  {
   "cell_type": "markdown",
   "metadata": {},
   "source": [
    "## Test ENd"
   ]
  },
  {
   "cell_type": "code",
   "execution_count": 11,
   "metadata": {},
   "outputs": [],
   "source": [
    "def store_in_chroma(chunks, metadata):\n",
    "    \"\"\"Store chunks in ChromaDB with metadata\"\"\"\n",
    "    client = chromadb.PersistentClient(path=\"/db/\")\n",
    "    collection = client.get_or_create_collection(\"nvidia_document_chunks\")\n",
    "    texts = [chunk['text'] for chunk in chunks]\n",
    "    embeddings = generate_embeddings(texts)\n",
    "    metadatas = [chunk['metadata'] for chunk in chunks]\n",
    "    ids = [f\"{metadata['source']}_{i}\" for i in range(len(chunks))]\n",
    "    \n",
    "    collection.add(\n",
    "        ids=ids,\n",
    "        embeddings=embeddings,\n",
    "        metadatas=metadatas,\n",
    "        documents=texts\n",
    "    )"
   ]
  },
  {
   "cell_type": "code",
   "execution_count": 2,
   "metadata": {},
   "outputs": [
    {
     "ename": "NameError",
     "evalue": "name 'doc1' is not defined",
     "output_type": "error",
     "traceback": [
      "\u001b[1;31m---------------------------------------------------------------------------\u001b[0m",
      "\u001b[1;31mNameError\u001b[0m                                 Traceback (most recent call last)",
      "Cell \u001b[1;32mIn[2], line 1\u001b[0m\n\u001b[1;32m----> 1\u001b[0m documents \u001b[38;5;241m=\u001b[39m [\u001b[43mdoc1\u001b[49m]\n\u001b[0;32m      2\u001b[0m \u001b[38;5;28;01mfor\u001b[39;00m doc \u001b[38;5;129;01min\u001b[39;00m documents:\n\u001b[0;32m      3\u001b[0m         \u001b[38;5;66;03m# Base metadata\u001b[39;00m\n\u001b[0;32m      4\u001b[0m         base_metadata \u001b[38;5;241m=\u001b[39m {\n\u001b[0;32m      5\u001b[0m             \u001b[38;5;124m\"\u001b[39m\u001b[38;5;124msource\u001b[39m\u001b[38;5;124m\"\u001b[39m: doc[\u001b[38;5;124m'\u001b[39m\u001b[38;5;124mkey\u001b[39m\u001b[38;5;124m'\u001b[39m],\n\u001b[0;32m      6\u001b[0m             \u001b[38;5;124m\"\u001b[39m\u001b[38;5;124myear\u001b[39m\u001b[38;5;124m\"\u001b[39m: doc[\u001b[38;5;124m'\u001b[39m\u001b[38;5;124myear\u001b[39m\u001b[38;5;124m'\u001b[39m],\n\u001b[0;32m      7\u001b[0m             \u001b[38;5;124m\"\u001b[39m\u001b[38;5;124mquarter\u001b[39m\u001b[38;5;124m\"\u001b[39m: doc[\u001b[38;5;124m'\u001b[39m\u001b[38;5;124mquarter\u001b[39m\u001b[38;5;124m'\u001b[39m],\n\u001b[0;32m      8\u001b[0m             \u001b[38;5;124m\"\u001b[39m\u001b[38;5;124mfile_size\u001b[39m\u001b[38;5;124m\"\u001b[39m: \u001b[38;5;28mlen\u001b[39m(doc[\u001b[38;5;124m'\u001b[39m\u001b[38;5;124mcontent\u001b[39m\u001b[38;5;124m'\u001b[39m])\n\u001b[0;32m      9\u001b[0m         }\n",
      "\u001b[1;31mNameError\u001b[0m: name 'doc1' is not defined"
     ]
    }
   ],
   "source": [
    "documents = [doc1]\n",
    "for doc in documents:\n",
    "        # Base metadata\n",
    "        base_metadata = {\n",
    "            \"source\": doc['key'],\n",
    "            \"year\": doc['year'],\n",
    "            \"quarter\": doc['quarter'],\n",
    "            \"file_size\": len(doc['content'])\n",
    "        }\n",
    "        \n",
    "        # Process with both chunking strategies\n",
    "        all_chunks = []\n",
    "        \n",
    "        # Strategy 1: Semantic chunking\n",
    "        semantic_chunks = semantic_chunking(doc['content'])\n",
    "        for i, chunk in enumerate(semantic_chunks):\n",
    "            all_chunks.append({\n",
    "                \"text\": chunk,\n",
    "                \"metadata\": {\n",
    "                    **base_metadata,\n",
    "                    \"chunk_strategy\": \"semantic\",\n",
    "                    \"chunk_num\": i+1\n",
    "                }\n",
    "            })\n",
    "\n",
    "        "
   ]
  },
  {
   "cell_type": "code",
   "execution_count": null,
   "metadata": {},
   "outputs": [
    {
     "ename": "AttributeError",
     "evalue": "'S3FileManager' object has no attribute 'list_objects_v2'",
     "output_type": "error",
     "traceback": [
      "\u001b[1;31m---------------------------------------------------------------------------\u001b[0m",
      "\u001b[1;31mAttributeError\u001b[0m                            Traceback (most recent call last)",
      "Cell \u001b[1;32mIn[44], line 5\u001b[0m\n\u001b[0;32m      3\u001b[0m base_path \u001b[38;5;241m=\u001b[39m \u001b[38;5;124m\"\u001b[39m\u001b[38;5;124mnvdia/\u001b[39m\u001b[38;5;124m\"\u001b[39m\n\u001b[0;32m      4\u001b[0m s3_obj \u001b[38;5;241m=\u001b[39m S3FileManager(AWS_BUCKET_NAME, base_path)\n\u001b[1;32m----> 5\u001b[0m response \u001b[38;5;241m=\u001b[39m \u001b[43ms3_obj\u001b[49m\u001b[38;5;241;43m.\u001b[39;49m\u001b[43mlist_objects_v2\u001b[49m(\n\u001b[0;32m      6\u001b[0m             Bucket\u001b[38;5;241m=\u001b[39mAWS_BUCKET_NAME,\n\u001b[0;32m      7\u001b[0m             Prefix\u001b[38;5;241m=\u001b[39m\u001b[38;5;124m'\u001b[39m\u001b[38;5;124m'\u001b[39m\n\u001b[0;32m      8\u001b[0m         )\n\u001b[0;32m      9\u001b[0m \u001b[38;5;66;03m# files = list({file for file in s3_obj.list_files() if file.endswith('.md')})\u001b[39;00m\n\u001b[0;32m     10\u001b[0m \u001b[38;5;66;03m# files = files[:1]\u001b[39;00m\n\u001b[0;32m     11\u001b[0m \u001b[38;5;28mprint\u001b[39m(response)\n",
      "\u001b[1;31mAttributeError\u001b[0m: 'S3FileManager' object has no attribute 'list_objects_v2'"
     ]
    }
   ],
   "source": [
    "AWS_BUCKET_NAME = os.getenv(\"AWS_BUCKET_NAME\")\n",
    "\n",
    "base_path = \"nvdia/\"\n",
    "s3_obj = S3FileManager(AWS_BUCKET_NAME, base_path)\n",
    "files = list({file for file in s3_obj.list_files() if file.endswith('.md')})\n",
    "# files = files[:1]\n",
    "print(files)"
   ]
  },
  {
   "cell_type": "code",
   "execution_count": 43,
   "metadata": {},
   "outputs": [
    {
     "ename": "AttributeError",
     "evalue": "'S3FileManager' object has no attribute 'list_objects_v2'",
     "output_type": "error",
     "traceback": [
      "\u001b[1;31m---------------------------------------------------------------------------\u001b[0m",
      "\u001b[1;31mAttributeError\u001b[0m                            Traceback (most recent call last)",
      "Cell \u001b[1;32mIn[43], line 1\u001b[0m\n\u001b[1;32m----> 1\u001b[0m \u001b[43ms3_obj\u001b[49m\u001b[38;5;241;43m.\u001b[39;49m\u001b[43mlist_objects_v2\u001b[49m(\n\u001b[0;32m      2\u001b[0m             Bucket\u001b[38;5;241m=\u001b[39mAWS_BUCKET_NAME,\n\u001b[0;32m      3\u001b[0m             Prefix\u001b[38;5;241m=\u001b[39m\u001b[38;5;124m'\u001b[39m\u001b[38;5;124m'\u001b[39m\n\u001b[0;32m      4\u001b[0m         )\n",
      "\u001b[1;31mAttributeError\u001b[0m: 'S3FileManager' object has no attribute 'list_objects_v2'"
     ]
    }
   ],
   "source": [
    "s3_obj.list_objects_v2(\n",
    "            Bucket=AWS_BUCKET_NAME,\n",
    "            Prefix=''\n",
    "        )"
   ]
  },
  {
   "cell_type": "code",
   "execution_count": 8,
   "metadata": {},
   "outputs": [],
   "source": [
    "def get_embeddings(texts):\n",
    "    openai_ef = embedding_functions.OpenAIEmbeddingFunction(\n",
    "                api_key=OPENAI_API_KEY,\n",
    "                model_name=\"text-embedding-3-small\"\n",
    "            )\n",
    "    return openai_ef(texts)"
   ]
  },
  {
   "cell_type": "code",
   "execution_count": 18,
   "metadata": {},
   "outputs": [
    {
     "name": "stdout",
     "output_type": "stream",
     "text": [
      "Collection names: []\n"
     ]
    }
   ],
   "source": [
    "chroma_client = chromadb.PersistentClient(path=\"./chroma_db\")\n",
    "collection_names = chroma_client.list_collections()\n",
    "print(\"Collection names:\", collection_names)"
   ]
  },
  {
   "cell_type": "code",
   "execution_count": 15,
   "metadata": {},
   "outputs": [
    {
     "ename": "InvalidCollectionException",
     "evalue": "Collection mistral_semantic does not exist.",
     "output_type": "error",
     "traceback": [
      "\u001b[1;31m---------------------------------------------------------------------------\u001b[0m",
      "\u001b[1;31mInvalidCollectionException\u001b[0m                Traceback (most recent call last)",
      "Cell \u001b[1;32mIn[15], line 16\u001b[0m\n\u001b[0;32m     13\u001b[0m chroma_client \u001b[38;5;241m=\u001b[39m chromadb\u001b[38;5;241m.\u001b[39mPersistentClient(path\u001b[38;5;241m=\u001b[39m\u001b[38;5;124m\"\u001b[39m\u001b[38;5;124m./chroma_db\u001b[39m\u001b[38;5;124m\"\u001b[39m)\n\u001b[0;32m     15\u001b[0m \u001b[38;5;66;03m# Get a specific collection\u001b[39;00m\n\u001b[1;32m---> 16\u001b[0m collection \u001b[38;5;241m=\u001b[39m \u001b[43mchroma_client\u001b[49m\u001b[38;5;241;43m.\u001b[39;49m\u001b[43mget_collection\u001b[49m\u001b[43m(\u001b[49m\u001b[38;5;124;43m\"\u001b[39;49m\u001b[38;5;124;43mmistral_semantic\u001b[39;49m\u001b[38;5;124;43m\"\u001b[39;49m\u001b[43m)\u001b[49m\n\u001b[0;32m     18\u001b[0m \u001b[38;5;66;03m# Perform a query\u001b[39;00m\n\u001b[0;32m     19\u001b[0m query_text \u001b[38;5;241m=\u001b[39m \u001b[38;5;124m\"\u001b[39m\u001b[38;5;124mWhat is NVIDIA\u001b[39m\u001b[38;5;124m'\u001b[39m\u001b[38;5;124ms approach to AI?\u001b[39m\u001b[38;5;124m\"\u001b[39m\n",
      "File \u001b[1;32mc:\\Users\\yohan\\anaconda3\\envs\\DAMG_RAG_1\\lib\\site-packages\\chromadb\\api\\client.py:171\u001b[0m, in \u001b[0;36mClient.get_collection\u001b[1;34m(self, name, embedding_function, data_loader)\u001b[0m\n\u001b[0;32m    162\u001b[0m \u001b[38;5;129m@override\u001b[39m\n\u001b[0;32m    163\u001b[0m \u001b[38;5;28;01mdef\u001b[39;00m\u001b[38;5;250m \u001b[39m\u001b[38;5;21mget_collection\u001b[39m(\n\u001b[0;32m    164\u001b[0m     \u001b[38;5;28mself\u001b[39m,\n\u001b[1;32m   (...)\u001b[0m\n\u001b[0;32m    169\u001b[0m     data_loader: Optional[DataLoader[Loadable]] \u001b[38;5;241m=\u001b[39m \u001b[38;5;28;01mNone\u001b[39;00m,\n\u001b[0;32m    170\u001b[0m ) \u001b[38;5;241m-\u001b[39m\u001b[38;5;241m>\u001b[39m Collection:\n\u001b[1;32m--> 171\u001b[0m     model \u001b[38;5;241m=\u001b[39m \u001b[38;5;28;43mself\u001b[39;49m\u001b[38;5;241;43m.\u001b[39;49m\u001b[43m_server\u001b[49m\u001b[38;5;241;43m.\u001b[39;49m\u001b[43mget_collection\u001b[49m\u001b[43m(\u001b[49m\n\u001b[0;32m    172\u001b[0m \u001b[43m        \u001b[49m\u001b[43mname\u001b[49m\u001b[38;5;241;43m=\u001b[39;49m\u001b[43mname\u001b[49m\u001b[43m,\u001b[49m\n\u001b[0;32m    173\u001b[0m \u001b[43m        \u001b[49m\u001b[43mtenant\u001b[49m\u001b[38;5;241;43m=\u001b[39;49m\u001b[38;5;28;43mself\u001b[39;49m\u001b[38;5;241;43m.\u001b[39;49m\u001b[43mtenant\u001b[49m\u001b[43m,\u001b[49m\n\u001b[0;32m    174\u001b[0m \u001b[43m        \u001b[49m\u001b[43mdatabase\u001b[49m\u001b[38;5;241;43m=\u001b[39;49m\u001b[38;5;28;43mself\u001b[39;49m\u001b[38;5;241;43m.\u001b[39;49m\u001b[43mdatabase\u001b[49m\u001b[43m,\u001b[49m\n\u001b[0;32m    175\u001b[0m \u001b[43m    \u001b[49m\u001b[43m)\u001b[49m\n\u001b[0;32m    176\u001b[0m     \u001b[38;5;28;01mreturn\u001b[39;00m Collection(\n\u001b[0;32m    177\u001b[0m         client\u001b[38;5;241m=\u001b[39m\u001b[38;5;28mself\u001b[39m\u001b[38;5;241m.\u001b[39m_server,\n\u001b[0;32m    178\u001b[0m         model\u001b[38;5;241m=\u001b[39mmodel,\n\u001b[0;32m    179\u001b[0m         embedding_function\u001b[38;5;241m=\u001b[39membedding_function,\n\u001b[0;32m    180\u001b[0m         data_loader\u001b[38;5;241m=\u001b[39mdata_loader,\n\u001b[0;32m    181\u001b[0m     )\n",
      "File \u001b[1;32mc:\\Users\\yohan\\anaconda3\\envs\\DAMG_RAG_1\\lib\\site-packages\\chromadb\\telemetry\\opentelemetry\\__init__.py:150\u001b[0m, in \u001b[0;36mtrace_method.<locals>.decorator.<locals>.wrapper\u001b[1;34m(*args, **kwargs)\u001b[0m\n\u001b[0;32m    148\u001b[0m \u001b[38;5;28;01mglobal\u001b[39;00m tracer, granularity\n\u001b[0;32m    149\u001b[0m \u001b[38;5;28;01mif\u001b[39;00m trace_granularity \u001b[38;5;241m<\u001b[39m granularity:\n\u001b[1;32m--> 150\u001b[0m     \u001b[38;5;28;01mreturn\u001b[39;00m f(\u001b[38;5;241m*\u001b[39margs, \u001b[38;5;241m*\u001b[39m\u001b[38;5;241m*\u001b[39mkwargs)\n\u001b[0;32m    151\u001b[0m \u001b[38;5;28;01mif\u001b[39;00m \u001b[38;5;129;01mnot\u001b[39;00m tracer:\n\u001b[0;32m    152\u001b[0m     \u001b[38;5;28;01mreturn\u001b[39;00m f(\u001b[38;5;241m*\u001b[39margs, \u001b[38;5;241m*\u001b[39m\u001b[38;5;241m*\u001b[39mkwargs)\n",
      "File \u001b[1;32mc:\\Users\\yohan\\anaconda3\\envs\\DAMG_RAG_1\\lib\\site-packages\\chromadb\\api\\segment.py:103\u001b[0m, in \u001b[0;36mrate_limit.<locals>.wrapper\u001b[1;34m(*args, **kwargs)\u001b[0m\n\u001b[0;32m    100\u001b[0m \u001b[38;5;129m@wraps\u001b[39m(func)\n\u001b[0;32m    101\u001b[0m \u001b[38;5;28;01mdef\u001b[39;00m\u001b[38;5;250m \u001b[39m\u001b[38;5;21mwrapper\u001b[39m(\u001b[38;5;241m*\u001b[39margs: Any, \u001b[38;5;241m*\u001b[39m\u001b[38;5;241m*\u001b[39mkwargs: Any) \u001b[38;5;241m-\u001b[39m\u001b[38;5;241m>\u001b[39m Any:\n\u001b[0;32m    102\u001b[0m     \u001b[38;5;28mself\u001b[39m \u001b[38;5;241m=\u001b[39m args[\u001b[38;5;241m0\u001b[39m]\n\u001b[1;32m--> 103\u001b[0m     \u001b[38;5;28;01mreturn\u001b[39;00m \u001b[38;5;28mself\u001b[39m\u001b[38;5;241m.\u001b[39m_rate_limit_enforcer\u001b[38;5;241m.\u001b[39mrate_limit(func)(\u001b[38;5;241m*\u001b[39margs, \u001b[38;5;241m*\u001b[39m\u001b[38;5;241m*\u001b[39mkwargs)\n",
      "File \u001b[1;32mc:\\Users\\yohan\\anaconda3\\envs\\DAMG_RAG_1\\lib\\site-packages\\chromadb\\rate_limit\\simple_rate_limit\\__init__.py:24\u001b[0m, in \u001b[0;36mSimpleRateLimitEnforcer.rate_limit.<locals>.wrapper\u001b[1;34m(*args, **kwargs)\u001b[0m\n\u001b[0;32m     22\u001b[0m \u001b[38;5;129m@wraps\u001b[39m(func)\n\u001b[0;32m     23\u001b[0m \u001b[38;5;28;01mdef\u001b[39;00m\u001b[38;5;250m \u001b[39m\u001b[38;5;21mwrapper\u001b[39m(\u001b[38;5;241m*\u001b[39margs: Any, \u001b[38;5;241m*\u001b[39m\u001b[38;5;241m*\u001b[39mkwargs: Any) \u001b[38;5;241m-\u001b[39m\u001b[38;5;241m>\u001b[39m Any:\n\u001b[1;32m---> 24\u001b[0m     \u001b[38;5;28;01mreturn\u001b[39;00m func(\u001b[38;5;241m*\u001b[39margs, \u001b[38;5;241m*\u001b[39m\u001b[38;5;241m*\u001b[39mkwargs)\n",
      "File \u001b[1;32mc:\\Users\\yohan\\anaconda3\\envs\\DAMG_RAG_1\\lib\\site-packages\\chromadb\\api\\segment.py:316\u001b[0m, in \u001b[0;36mSegmentAPI.get_collection\u001b[1;34m(self, name, tenant, database)\u001b[0m\n\u001b[0;32m    314\u001b[0m     \u001b[38;5;28;01mreturn\u001b[39;00m existing[\u001b[38;5;241m0\u001b[39m]\n\u001b[0;32m    315\u001b[0m \u001b[38;5;28;01melse\u001b[39;00m:\n\u001b[1;32m--> 316\u001b[0m     \u001b[38;5;28;01mraise\u001b[39;00m InvalidCollectionException(\u001b[38;5;124mf\u001b[39m\u001b[38;5;124m\"\u001b[39m\u001b[38;5;124mCollection \u001b[39m\u001b[38;5;132;01m{\u001b[39;00mname\u001b[38;5;132;01m}\u001b[39;00m\u001b[38;5;124m does not exist.\u001b[39m\u001b[38;5;124m\"\u001b[39m)\n",
      "\u001b[1;31mInvalidCollectionException\u001b[0m: Collection mistral_semantic does not exist."
     ]
    }
   ],
   "source": [
    "from pprint import pprint\n",
    "\n",
    "# query = [\"multi-head attention in transformers\"]\n",
    "# query_embeddings = generate_embeddings(query)\n",
    "# results = collection.query(\n",
    "#     query_embeddings=query_embeddings,\n",
    "#     n_results=2, # how many results to return\n",
    "#     where_document={'$contains': 'encoder'}\n",
    "# )\n",
    "\n",
    "# pprint(results)\n",
    "\n",
    "chroma_client = chromadb.PersistentClient(path=\"./chroma_db\")\n",
    "\n",
    "# Get a specific collection\n",
    "collection = chroma_client.get_collection(\"mistral_semantic\")\n",
    "\n",
    "# Perform a query\n",
    "query_text = \"What is NVIDIA's approach to AI?\"\n",
    "query_embeddings = get_embeddings([query_text])\n",
    "results = collection.query(\n",
    "    query_embeddings=query_embeddings,\n",
    "    n_results=3  # Number of results to return\n",
    ")\n",
    "\n",
    "pprint(results)"
   ]
  }
 ],
 "metadata": {
  "kernelspec": {
   "display_name": "DAMG_RAG_1",
   "language": "python",
   "name": "python3"
  },
  "language_info": {
   "codemirror_mode": {
    "name": "ipython",
    "version": 3
   },
   "file_extension": ".py",
   "mimetype": "text/x-python",
   "name": "python",
   "nbconvert_exporter": "python",
   "pygments_lexer": "ipython3",
   "version": "3.10.0"
  }
 },
 "nbformat": 4,
 "nbformat_minor": 2
}
