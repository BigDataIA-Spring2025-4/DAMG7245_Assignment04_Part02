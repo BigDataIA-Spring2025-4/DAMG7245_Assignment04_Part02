{
 "cells": [
  {
   "cell_type": "code",
   "execution_count": 1,
   "metadata": {},
   "outputs": [],
   "source": [
    "import os\n",
    "import spacy\n",
    "import chromadb\n",
    "import chromadb.utils.embedding_functions as embedding_functions"
   ]
  },
  {
   "cell_type": "code",
   "execution_count": 2,
   "metadata": {},
   "outputs": [],
   "source": [
    "from s3 import S3FileManager\n",
    "\n",
    "AWS_BUCKET = os.getenv(\"AWS_BUCKET_NAME\")\n",
    "S3_PREFIX = \"documents/\""
   ]
  },
  {
   "cell_type": "code",
   "execution_count": 3,
   "metadata": {},
   "outputs": [],
   "source": [
    "AWS_BUCKET = os.getenv(\"AWS_BUCKET_NAME\")\n",
    "S3_PREFIX = \"documents/\"\n",
    "OPENAI_API_KEY = os.getenv(\"OPENAI_API_KEY\")\n",
    "EMBEDDING_MODEL = \"text-embedding-3-small\""
   ]
  },
  {
   "cell_type": "code",
   "execution_count": 4,
   "metadata": {},
   "outputs": [],
   "source": [
    "doc1 = \"\"\"\n",
    "output values. These are concatenated and once again projected, resulting in the final values, as depicted in Figure 2.\n",
    "\n",
    "Multi-head attention allows the model to jointly attend to information from different representation subspaces at different positions. With a single attention head, averaging inhibits this.\n",
    "\n",
    "<!-- formula-not-decoded -->\n",
    "\n",
    "<!-- formula-not-decoded -->\n",
    "\n",
    "Where the projections are parameter matrices W Q i ∈ R d model × d k , W K i ∈ R d model × d k , W V i ∈ R d model × d v and W O ∈ R hd v × d model .\n",
    "\n",
    "In this work we employ h = 8 parallel attention layers, or heads. For each of these we use d k = d v = d model /h = 64 . Due to the reduced dimension of each head, the total computational cost is similar to that of single-head attention with full dimensionality.\n",
    "\n",
    "## 3.2.3 Applications of Attention in our Model\n",
    "\n",
    "The Transformer uses multi-head attention in three different ways:\n",
    "\n",
    "- · In \"encoder-decoder attention\" layers, the queries come from the previous decoder layer, and the memory keys and values come from the output of the encoder. This allows every position in the decoder to attend over all positions in the input sequence. This mimics the typical encoder-decoder attention mechanisms in sequence-to-sequence models such as [38, 2, 9].\n",
    "- · The encoder contains self-attention layers. In a self-attention layer all of the keys, values and queries come from the same place, in this case, the output of the previous layer in the encoder. Each position in the encoder can attend to all positions in the previous layer of the encoder.\n",
    "- · Similarly, self-attention layers in the decoder allow each position in the decoder to attend to all positions in the decoder up to and including that position. We need to prevent leftward information flow in the decoder to preserve the auto-regressive property. We implement this inside of scaled dot-product attention by masking out (setting to -∞ ) all values in the input of the softmax which correspond to illegal connections. See Figure 2.\n",
    "\n",
    "## 3.3 Position-wise Feed-Forward Networks\n",
    "\n",
    "In addition to attention sub-layers, each of the layers in our encoder and decoder contains a fully connected feed-forward network, which is applied to each position separately and identically. This consists of two linear transformations with a ReLU activation in between.\n",
    "\n",
    "<!-- formula-not-decoded -->\n",
    "\n",
    "While the linear transformations are the same across different positions, they use different parameters from layer to layer. Another way of describing this is as two convolutions with kernel size 1. The dimensionality of input and output is d model = 512 , and the inner-layer has dimensionality d ff = 2048 .\n",
    "\n",
    "## 3.4 Embeddings and Softmax\n",
    "\n",
    "Similarly to other sequence transduction models, we use learned embeddings to convert the input tokens and output tokens to vectors of dimension d model. We also use the usual learned linear transformation and softmax function to convert the decoder output to predicted next-token probabilities. In our model, we share the same weight matrix between the two embedding layers and the pre-softmax linear transformation, similar to [30]. In the embedding layers, we multiply those weights by √ d model.\n",
    "\"\"\""
   ]
  },
  {
   "cell_type": "code",
   "execution_count": 5,
   "metadata": {},
   "outputs": [],
   "source": [
    "documents = [doc1]"
   ]
  },
  {
   "cell_type": "code",
   "execution_count": 6,
   "metadata": {},
   "outputs": [],
   "source": [
    "def semantic_chunking(text, max_sentences=5):\n",
    "    nlp = spacy.load(\"en_core_web_sm\")\n",
    "    doc = nlp(text)\n",
    "    sentences = [sent.text for sent in doc.sents]\n",
    "    \n",
    "    chunks = []\n",
    "    current_chunk = []\n",
    "    for i, sent in enumerate(sentences):\n",
    "        current_chunk.append(sent)\n",
    "        if (i + 1) % max_sentences == 0:\n",
    "            chunks.append(\" \".join(current_chunk))\n",
    "            current_chunk = []\n",
    "    \n",
    "    if current_chunk:\n",
    "        chunks.append(\" \".join(current_chunk))\n",
    "    \n",
    "    return chunks"
   ]
  },
  {
   "cell_type": "code",
   "execution_count": 7,
   "metadata": {},
   "outputs": [
    {
     "data": {
      "text/plain": [
       "'= 64 . Due to the reduced dimension of each head, the total computational cost is similar to that of single-head attention with full dimensionality.\\n\\n ## 3.2.3 Applications of Attention in our Model\\n\\nThe Transformer uses multi-head attention in three different ways:\\n\\n- · In \"encoder-decoder attention\" layers, the queries come from the previous decoder layer, and the memory keys and values come from the output of the encoder. This allows every position in the decoder to attend over all positions in the input sequence.'"
      ]
     },
     "execution_count": 7,
     "metadata": {},
     "output_type": "execute_result"
    }
   ],
   "source": [
    "semantic_chunks = semantic_chunking(doc1)\n",
    "semantic_chunks[2]"
   ]
  },
  {
   "cell_type": "code",
   "execution_count": null,
   "metadata": {},
   "outputs": [],
   "source": [
    "def generate_embeddings(texts):\n",
    "    openai_ef = embedding_functions.OpenAIEmbeddingFunction(\n",
    "                api_key=OPENAI_API_KEY,\n",
    "                model_name=\"text-embedding-3-small\"\n",
    "            )\n",
    "    return openai_ef(texts)"
   ]
  },
  {
   "cell_type": "code",
   "execution_count": 9,
   "metadata": {},
   "outputs": [],
   "source": [
    "value = generate_embeddings(semantic_chunks)\n"
   ]
  },
  {
   "cell_type": "code",
   "execution_count": 10,
   "metadata": {},
   "outputs": [
    {
     "data": {
      "text/plain": [
       "[array([ 0.04584392,  0.02012629,  0.08212437, ..., -0.00191965,\n",
       "         0.00995562,  0.00498413], shape=(1536,), dtype=float32),\n",
       " array([ 0.00951175,  0.01475875,  0.02481758, ...,  0.0153307 ,\n",
       "        -0.00456315,  0.01047536], shape=(1536,), dtype=float32),\n",
       " array([ 0.02812611,  0.01595369,  0.06689579, ..., -0.00772593,\n",
       "         0.04551528,  0.03916648], shape=(1536,), dtype=float32),\n",
       " array([ 0.06543998,  0.00956596, -0.00124241, ..., -0.0101656 ,\n",
       "         0.03213166,  0.00421162], shape=(1536,), dtype=float32),\n",
       " array([ 0.03179673, -0.03211245,  0.03272132, ...,  0.00229032,\n",
       "        -0.00096757,  0.04713133], shape=(1536,), dtype=float32),\n",
       " array([ 0.01797471, -0.02583332,  0.00384412, ..., -0.01113836,\n",
       "         0.00710789,  0.0187414 ], shape=(1536,), dtype=float32),\n",
       " array([ 0.02663533, -0.00029789,  0.04269256, ..., -0.01071228,\n",
       "        -0.02023927,  0.01938944], shape=(1536,), dtype=float32)]"
      ]
     },
     "execution_count": 10,
     "metadata": {},
     "output_type": "execute_result"
    }
   ],
   "source": [
    "value"
   ]
  },
  {
   "cell_type": "markdown",
   "metadata": {},
   "source": [
    "## Test"
   ]
  },
  {
   "cell_type": "code",
   "execution_count": 11,
   "metadata": {},
   "outputs": [],
   "source": [
    "chroma_client = chromadb.Client()\n",
    "collection = chroma_client.get_or_create_collection(\"nvidia_document_chunks\") # Create the collection once\n",
    "\n",
    "for doc in documents:\n",
    "    semantic_chunks = semantic_chunking(doc)\n",
    "    embeddings = generate_embeddings(semantic_chunks)\n",
    "    ids = [f\"id_{i}\" for i in range(len(semantic_chunks))]\n",
    "    collection.add(\n",
    "        documents=semantic_chunks,\n",
    "        ids=ids,\n",
    "        embeddings=embeddings,\n",
    "    )"
   ]
  },
  {
   "cell_type": "code",
   "execution_count": 28,
   "metadata": {},
   "outputs": [
    {
     "name": "stdout",
     "output_type": "stream",
     "text": [
      "{'data': None,\n",
      " 'distances': [[0.5198990702629089, 0.9386508464813232]],\n",
      " 'documents': [['= 64 . Due to the reduced dimension of each head, the total '\n",
      "                'computational cost is similar to that of single-head '\n",
      "                'attention with full dimensionality.\\n'\n",
      "                '\\n'\n",
      "                ' ## 3.2.3 Applications of Attention in our Model\\n'\n",
      "                '\\n'\n",
      "                'The Transformer uses multi-head attention in three different '\n",
      "                'ways:\\n'\n",
      "                '\\n'\n",
      "                '- · In \"encoder-decoder attention\" layers, the queries come '\n",
      "                'from the previous decoder layer, and the memory keys and '\n",
      "                'values come from the output of the encoder. This allows every '\n",
      "                'position in the decoder to attend over all positions in the '\n",
      "                'input sequence.',\n",
      "                'This mimics the typical encoder-decoder attention mechanisms '\n",
      "                'in sequence-to-sequence models such as [38, 2, 9].\\n'\n",
      "                '- · The encoder contains self-attention layers. In a '\n",
      "                'self-attention layer all of the keys, values and queries come '\n",
      "                'from the same place, in this case, the output of the previous '\n",
      "                'layer in the encoder. Each position in the encoder can attend '\n",
      "                'to all positions in the previous layer of the encoder.\\n'\n",
      "                '- · Similarly, self-attention layers in the decoder allow '\n",
      "                'each position in the decoder to attend to all positions in '\n",
      "                'the decoder up to and including that position. We need to '\n",
      "                'prevent leftward information flow in the decoder to preserve '\n",
      "                'the auto-regressive property. We implement this inside of '\n",
      "                'scaled dot-product attention by masking out (setting to -∞ '\n",
      "                ')']],\n",
      " 'embeddings': None,\n",
      " 'ids': [['id_2', 'id_3']],\n",
      " 'included': [<IncludeEnum.distances: 'distances'>,\n",
      "              <IncludeEnum.documents: 'documents'>,\n",
      "              <IncludeEnum.metadatas: 'metadatas'>],\n",
      " 'metadatas': [[None, None]],\n",
      " 'uris': None}\n"
     ]
    }
   ],
   "source": [
    "from pprint import pprint\n",
    "\n",
    "query = [\"multi-head attention in transformers\"]\n",
    "query_embeddings = generate_embeddings(query)\n",
    "results = collection.query(\n",
    "    query_embeddings=query_embeddings,\n",
    "    n_results=2, # how many results to return\n",
    "    where_document={'$contains': 'encoder'}\n",
    ")\n",
    "\n",
    "pprint(results)"
   ]
  },
  {
   "cell_type": "code",
   "execution_count": 18,
   "metadata": {},
   "outputs": [],
   "source": [
    "openai_ef = embedding_functions.OpenAIEmbeddingFunction(\n",
    "                api_key=OPENAI_API_KEY,\n",
    "                model_name=\"text-embedding-3-small\"\n",
    "            )\n",
    "test_out = openai_ef([\"multi-head attention in transformers\"])"
   ]
  },
  {
   "cell_type": "code",
   "execution_count": 20,
   "metadata": {},
   "outputs": [
    {
     "name": "stdout",
     "output_type": "stream",
     "text": [
      "<class 'list'>\n"
     ]
    },
    {
     "data": {
      "text/plain": [
       "[array([ 0.01688255,  0.0042638 ,  0.04444465, ..., -0.00435012,\n",
       "         0.05998301,  0.01123448], shape=(1536,), dtype=float32)]"
      ]
     },
     "execution_count": 20,
     "metadata": {},
     "output_type": "execute_result"
    }
   ],
   "source": [
    "print(type(test_out))\n",
    "test_out"
   ]
  },
  {
   "cell_type": "code",
   "execution_count": 13,
   "metadata": {},
   "outputs": [
    {
     "name": "stdout",
     "output_type": "stream",
     "text": [
      "[array([ 0.0238633 ,  0.0172598 , -0.01232843, ..., -0.02780273,\n",
      "        0.00091489,  0.00114959], shape=(1536,), dtype=float32),\n",
      " array([ 0.01288096,  0.01655534,  0.03272534, ..., -0.03101889,\n",
      "       -0.00297081,  0.00994971], shape=(1536,), dtype=float32),\n",
      " array([-0.00323648, -0.01886252, -0.02487887, ..., -0.0026264 ,\n",
      "        0.0031348 ,  0.01547831], shape=(1536,), dtype=float32),\n",
      " array([-0.01111129,  0.01217269, -0.00390046, ...,  0.00372232,\n",
      "        0.01585419,  0.01134139], shape=(1536,), dtype=float32),\n",
      " array([ 0.01967479,  0.01060167, -0.00828781, ..., -0.02843939,\n",
      "       -0.01295759,  0.01723472], shape=(1536,), dtype=float32),\n",
      " array([ 0.02252617,  0.01233576,  0.01070343, ..., -0.00250485,\n",
      "       -0.00036557,  0.03681295], shape=(1536,), dtype=float32),\n",
      " array([ 0.01368417,  0.00645424,  0.01940664, ..., -0.02777813,\n",
      "       -0.02600724,  0.01240357], shape=(1536,), dtype=float32),\n",
      " array([ 0.0197254 , -0.00858011, -0.01231732, ..., -0.01707176,\n",
      "        0.01143277,  0.04608491], shape=(1536,), dtype=float32),\n",
      " array([ 0.02673379,  0.00864542, -0.00904419, ..., -0.02875957,\n",
      "       -0.01120554,  0.00244648], shape=(1536,), dtype=float32),\n",
      " array([ 0.04425313,  0.03368292,  0.01770433, ..., -0.01135604,\n",
      "        0.01155635,  0.05124858], shape=(1536,), dtype=float32),\n",
      " array([-0.01383352, -0.00272705,  0.01434057, ..., -0.01436658,\n",
      "       -0.01574473,  0.02574282], shape=(1536,), dtype=float32),\n",
      " array([ 0.02673379,  0.00864542, -0.00904419, ..., -0.02875957,\n",
      "       -0.01120554,  0.00244648], shape=(1536,), dtype=float32),\n",
      " array([-0.01111129,  0.01217269, -0.00390046, ...,  0.00372232,\n",
      "        0.01585419,  0.01134139], shape=(1536,), dtype=float32),\n",
      " array([-0.01111129,  0.01217269, -0.00390046, ...,  0.00372232,\n",
      "        0.01585419,  0.01134139], shape=(1536,), dtype=float32),\n",
      " array([ 0.0197254 , -0.00858011, -0.01231732, ..., -0.01707176,\n",
      "        0.01143277,  0.04608491], shape=(1536,), dtype=float32),\n",
      " array([ 0.02665598,  0.04401639,  0.0060052 , ..., -0.02542526,\n",
      "        0.01624552,  0.02050237], shape=(1536,), dtype=float32),\n",
      " array([-0.01111129,  0.01217269, -0.00390046, ...,  0.00372232,\n",
      "        0.01585419,  0.01134139], shape=(1536,), dtype=float32),\n",
      " array([ 0.01967479,  0.01060167, -0.00828781, ..., -0.02843939,\n",
      "       -0.01295759,  0.01723472], shape=(1536,), dtype=float32),\n",
      " array([ 0.01318817,  0.01947925, -0.00897489, ..., -0.00907589,\n",
      "        0.00288582,  0.01397456], shape=(1536,), dtype=float32),\n",
      " array([ 0.02665598,  0.04401639,  0.0060052 , ..., -0.02542526,\n",
      "        0.01624552,  0.02050237], shape=(1536,), dtype=float32),\n",
      " array([-0.01383352, -0.00272705,  0.01434057, ..., -0.01436658,\n",
      "       -0.01574473,  0.02574282], shape=(1536,), dtype=float32),\n",
      " array([ 0.01967479,  0.01060167, -0.00828781, ..., -0.02843939,\n",
      "       -0.01295759,  0.01723472], shape=(1536,), dtype=float32),\n",
      " array([ 0.02665598,  0.04401639,  0.0060052 , ..., -0.02542526,\n",
      "        0.01624552,  0.02050237], shape=(1536,), dtype=float32),\n",
      " array([-0.01383352, -0.00272705,  0.01434057, ..., -0.01436658,\n",
      "       -0.01574473,  0.02574282], shape=(1536,), dtype=float32),\n",
      " array([-0.01111129,  0.01217269, -0.00390046, ...,  0.00372232,\n",
      "        0.01585419,  0.01134139], shape=(1536,), dtype=float32),\n",
      " array([-0.02005558,  0.04284881,  0.00324135, ..., -0.02763795,\n",
      "        0.0176563 , -0.00044554], shape=(1536,), dtype=float32),\n",
      " array([ 0.02673379,  0.00864542, -0.00904419, ..., -0.02875957,\n",
      "       -0.01120554,  0.00244648], shape=(1536,), dtype=float32),\n",
      " array([ 0.02665598,  0.04401639,  0.0060052 , ..., -0.02542526,\n",
      "        0.01624552,  0.02050237], shape=(1536,), dtype=float32),\n",
      " array([ 0.01872031,  0.01570892,  0.0016648 , ..., -0.01003539,\n",
      "       -0.01036913,  0.00786222], shape=(1536,), dtype=float32),\n",
      " array([-0.02739454,  0.03113355, -0.00447265, ..., -0.00505734,\n",
      "        0.01935047,  0.01967819], shape=(1536,), dtype=float32),\n",
      " array([ 0.01318817,  0.01947925, -0.00897489, ..., -0.00907589,\n",
      "        0.00288582,  0.01397456], shape=(1536,), dtype=float32),\n",
      " array([-0.02005558,  0.04284881,  0.00324135, ..., -0.02763795,\n",
      "        0.0176563 , -0.00044554], shape=(1536,), dtype=float32),\n",
      " array([ 0.0238633 ,  0.0172598 , -0.01232843, ..., -0.02780273,\n",
      "        0.00091489,  0.00114959], shape=(1536,), dtype=float32),\n",
      " array([ 0.0197254 , -0.00858011, -0.01231732, ..., -0.01707176,\n",
      "        0.01143277,  0.04608491], shape=(1536,), dtype=float32),\n",
      " array([-0.02005558,  0.04284881,  0.00324135, ..., -0.02763795,\n",
      "        0.0176563 , -0.00044554], shape=(1536,), dtype=float32),\n",
      " array([ 0.01872031,  0.01570892,  0.0016648 , ..., -0.01003539,\n",
      "       -0.01036913,  0.00786222], shape=(1536,), dtype=float32)]\n"
     ]
    }
   ],
   "source": [
    "pprint(query_embeddings)"
   ]
  },
  {
   "cell_type": "markdown",
   "metadata": {},
   "source": [
    "## Test ENd"
   ]
  },
  {
   "cell_type": "code",
   "execution_count": null,
   "metadata": {},
   "outputs": [],
   "source": [
    "def store_in_chroma(chunks, metadata):\n",
    "    \"\"\"Store chunks in ChromaDB with metadata\"\"\"\n",
    "    chroma_client = chromadb.Client()\n",
    "    collection = chroma_client.get_or_create_collection(\"nvidia_document_chunks\")\n",
    "    texts = [chunk['text'] for chunk in chunks]\n",
    "    embeddings = generate_embeddings(texts)\n",
    "    metadatas = [chunk['metadata'] for chunk in chunks]\n",
    "    ids = [f\"{metadata['source']}_{i}\" for i in range(len(chunks))]\n",
    "    \n",
    "    collection.add(\n",
    "        ids=ids,\n",
    "        embeddings=embeddings,\n",
    "        metadatas=metadatas,\n",
    "        documents=texts\n",
    "    )"
   ]
  },
  {
   "cell_type": "code",
   "execution_count": null,
   "metadata": {},
   "outputs": [],
   "source": [
    "documents = [doc1]\n",
    "for doc in documents:\n",
    "        # Base metadata\n",
    "        base_metadata = {\n",
    "            \"source\": doc['key'],\n",
    "            \"year\": doc['year'],\n",
    "            \"quarter\": doc['quarter'],\n",
    "            \"file_size\": len(doc['content'])\n",
    "        }\n",
    "        \n",
    "        # Process with both chunking strategies\n",
    "        all_chunks = []\n",
    "        \n",
    "        # Strategy 1: Semantic chunking\n",
    "        semantic_chunks = semantic_chunking(doc['content'])\n",
    "        for i, chunk in enumerate(semantic_chunks):\n",
    "            all_chunks.append({\n",
    "                \"text\": chunk,\n",
    "                \"metadata\": {\n",
    "                    **base_metadata,\n",
    "                    \"chunk_strategy\": \"semantic\",\n",
    "                    \"chunk_num\": i+1\n",
    "                }\n",
    "            })\n",
    "\n",
    "        "
   ]
  }
 ],
 "metadata": {
  "kernelspec": {
   "display_name": "DAMG_RAG_1",
   "language": "python",
   "name": "python3"
  },
  "language_info": {
   "codemirror_mode": {
    "name": "ipython",
    "version": 3
   },
   "file_extension": ".py",
   "mimetype": "text/x-python",
   "name": "python",
   "nbconvert_exporter": "python",
   "pygments_lexer": "ipython3",
   "version": "3.10.0"
  }
 },
 "nbformat": 4,
 "nbformat_minor": 2
}
