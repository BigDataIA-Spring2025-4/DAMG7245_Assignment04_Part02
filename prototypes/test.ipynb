{
 "cells": [
  {
   "cell_type": "code",
   "execution_count": 11,
   "metadata": {},
   "outputs": [],
   "source": [
    "import chromadb\n",
    "import chromadb.utils.embedding_functions as embedding_functions\n",
    "import os\n",
    "import boto3\n",
    "import io\n",
    "import pickle\n",
    "import boto3\n",
    "import json"
   ]
  },
  {
   "cell_type": "code",
   "execution_count": 10,
   "metadata": {},
   "outputs": [],
   "source": [
    "AWS_BUCKET_NAME = os.getenv(\"AWS_BUCKET_NAME\")\n",
    "S3_PREFIX = \"documents/\"\n",
    "OPENAI_API_KEY = os.getenv(\"OPENAI_API_KEY\")\n",
    "EMBEDDING_MODEL = \"text-embedding-3-small\"\n",
    "\n",
    "\n",
    "S3_CHROMA_KEY = \"chroma_memory.json\""
   ]
  },
  {
   "cell_type": "code",
   "execution_count": 4,
   "metadata": {},
   "outputs": [
    {
     "name": "stdout",
     "output_type": "stream",
     "text": [
      "Working directory: c:\\Users\\yohan\\OneDrive\\Documents\\Yohan\\MASTERS\\Classes\\DAMG 7245\\Assignments\\Assignment-4\\Part-2\\DAMG7245_Assignment04_Part02\\features\\chromadb\n"
     ]
    }
   ],
   "source": [
    "print(\"Working directory:\", os.getcwd())"
   ]
  },
  {
   "cell_type": "code",
   "execution_count": 5,
   "metadata": {},
   "outputs": [],
   "source": [
    "chroma_client = chromadb.PersistentClient(path=\"c:/Users/yohan/OneDrive/Documents/Yohan/MASTERS/Classes/DAMG 7245/Assignments/Assignment-4/Part-2/DAMG7245_Assignment04_Part02/chroma_db\")"
   ]
  },
  {
   "cell_type": "code",
   "execution_count": 1,
   "metadata": {},
   "outputs": [],
   "source": [
    "def download_chroma_from_s3():\n",
    "    \"\"\"Download ChromaDB from S3 and recreate collections.\"\"\"\n",
    "    chroma_client = chromadb.EphemeralClient()  # Use in-memory ChromaDB\n",
    "\n",
    "    try:\n",
    "        response = s3_client.get_object(Bucket=AWS_BUCKET_NAME, Key=S3_CHROMA_KEY)\n",
    "        collections_data = json.loads(response['Body'].read().decode('utf-8'))\n",
    "        print(\"✅ ChromaDB loaded from S3.\")\n",
    "\n",
    "        # Recreate collections\n",
    "        for collection_name, data in collections_data.items():\n",
    "            col = chroma_client.get_or_create_collection(collection_name)\n",
    "            col.add(\n",
    "                ids=data[\"ids\"],\n",
    "                documents=data[\"documents\"],\n",
    "                embeddings=data[\"embeddings\"],\n",
    "                metadatas=data[\"metadatas\"]\n",
    "            )\n",
    "\n",
    "    except s3_client.exceptions.NoSuchKey:\n",
    "        print(\"⚠️ No existing ChromaDB found in S3, creating a new one.\")\n",
    "    except Exception as e:\n",
    "        print(f\"⚠️ Error loading ChromaDB: {e}\")"
   ]
  },
  {
   "cell_type": "code",
   "execution_count": 12,
   "metadata": {},
   "outputs": [
    {
     "name": "stdout",
     "output_type": "stream",
     "text": [
      "✅ ChromaDB loaded from S3.\n",
      "Loaded\n"
     ]
    }
   ],
   "source": [
    "base_path = \"nvdia/\"\n",
    "s3_client = boto3.client('s3')\n",
    "try:\n",
    "    chroma_client = download_chroma_from_s3()\n",
    "    print(\"Loaded\")\n",
    "except:\n",
    "    print(\"Client not available\")"
   ]
  },
  {
   "cell_type": "code",
   "execution_count": null,
   "metadata": {},
   "outputs": [],
   "source": [
    "def get_embeddings(texts):\n",
    "    openai_ef = embedding_functions.OpenAIEmbeddingFunction(\n",
    "                api_key=OPENAI_API_KEY,\n",
    "                model_name=\"text-embedding-3-small\"\n",
    "            )\n",
    "\n",
    "    return openai_ef(texts)"
   ]
  },
  {
   "cell_type": "code",
   "execution_count": 14,
   "metadata": {},
   "outputs": [
    {
     "ename": "AttributeError",
     "evalue": "'NoneType' object has no attribute 'list_collections'",
     "output_type": "error",
     "traceback": [
      "\u001b[1;31m---------------------------------------------------------------------------\u001b[0m",
      "\u001b[1;31mAttributeError\u001b[0m                            Traceback (most recent call last)",
      "Cell \u001b[1;32mIn[14], line 1\u001b[0m\n\u001b[1;32m----> 1\u001b[0m collection_names \u001b[38;5;241m=\u001b[39m \u001b[43mchroma_client\u001b[49m\u001b[38;5;241;43m.\u001b[39;49m\u001b[43mlist_collections\u001b[49m()\n\u001b[0;32m      2\u001b[0m \u001b[38;5;28mprint\u001b[39m(\u001b[38;5;124m\"\u001b[39m\u001b[38;5;124mCollection names:\u001b[39m\u001b[38;5;124m\"\u001b[39m, collection_names)\n",
      "\u001b[1;31mAttributeError\u001b[0m: 'NoneType' object has no attribute 'list_collections'"
     ]
    }
   ],
   "source": [
    "collection_names = chroma_client.list_collections()\n",
    "print(\"Collection names:\", collection_names)"
   ]
  },
  {
   "cell_type": "code",
   "execution_count": 15,
   "metadata": {},
   "outputs": [
    {
     "name": "stdout",
     "output_type": "stream",
     "text": [
      "DEBUGGING 2\n"
     ]
    },
    {
     "ename": "AttributeError",
     "evalue": "'NoneType' object has no attribute 'get_collection'",
     "output_type": "error",
     "traceback": [
      "\u001b[1;31m---------------------------------------------------------------------------\u001b[0m",
      "\u001b[1;31mAttributeError\u001b[0m                            Traceback (most recent call last)",
      "Cell \u001b[1;32mIn[15], line 3\u001b[0m\n\u001b[0;32m      1\u001b[0m \u001b[38;5;28mprint\u001b[39m(\u001b[38;5;124m\"\u001b[39m\u001b[38;5;124mDEBUGGING 2\u001b[39m\u001b[38;5;124m\"\u001b[39m)\n\u001b[0;32m      2\u001b[0m \u001b[38;5;66;03m# Access a specific collection by name\u001b[39;00m\n\u001b[1;32m----> 3\u001b[0m collection \u001b[38;5;241m=\u001b[39m \u001b[43mchroma_client\u001b[49m\u001b[38;5;241;43m.\u001b[39;49m\u001b[43mget_collection\u001b[49m(\u001b[38;5;124m\"\u001b[39m\u001b[38;5;124mdocling_semantic\u001b[39m\u001b[38;5;124m\"\u001b[39m)\n\u001b[0;32m      4\u001b[0m query_text \u001b[38;5;241m=\u001b[39m \u001b[38;5;124m\"\u001b[39m\u001b[38;5;124mWhat is NVIDIA\u001b[39m\u001b[38;5;124m'\u001b[39m\u001b[38;5;124ms approach to AI?\u001b[39m\u001b[38;5;124m\"\u001b[39m\n\u001b[0;32m      5\u001b[0m query_embeddings \u001b[38;5;241m=\u001b[39m get_embeddings([query_text])\n",
      "\u001b[1;31mAttributeError\u001b[0m: 'NoneType' object has no attribute 'get_collection'"
     ]
    }
   ],
   "source": [
    "print(\"DEBUGGING 2\")\n",
    "# Access a specific collection by name\n",
    "collection = chroma_client.get_collection(\"docling_semantic\")\n",
    "query_text = \"What is NVIDIA's approach to AI?\"\n",
    "query_embeddings = get_embeddings([query_text])\n",
    "results = collection.query(\n",
    "    query_embeddings=query_embeddings,\n",
    "    n_results=3,  # Number of results to return\n",
    "    where={'quarter': 'Q1'}\n",
    ")\n",
    "\n",
    "from pprint import pprint\n",
    "pprint(results)"
   ]
  },
  {
   "cell_type": "markdown",
   "metadata": {},
   "source": [
    "## Test-2\n"
   ]
  },
  {
   "cell_type": "code",
   "execution_count": 10,
   "metadata": {},
   "outputs": [],
   "source": [
    "import os\n",
    "import tempfile\n",
    "import shutil\n",
    "from s3 import S3FileManager\n",
    "\n",
    "from typing import List, Dict, Any, Optional\n",
    "from fastapi import FastAPI, HTTPException\n",
    "from pydantic import BaseModel\n",
    "\n",
    "import chromadb\n",
    "import chromadb.utils.embedding_functions as embedding_functions\n",
    "\n",
    "from dotenv import load_dotenv\n",
    "load_dotenv()\n",
    "\n",
    "AWS_BUCKET_NAME = os.getenv(\"AWS_BUCKET_NAME\")\n",
    "OPENAI_API_KEY = os.getenv(\"OPENAI_API_KEY\")"
   ]
  },
  {
   "cell_type": "code",
   "execution_count": 11,
   "metadata": {},
   "outputs": [],
   "source": [
    "def get_embeddings(texts):\n",
    "    openai_ef = embedding_functions.OpenAIEmbeddingFunction(\n",
    "                api_key=OPENAI_API_KEY,\n",
    "                model_name=\"text-embedding-3-small\"\n",
    "            )\n",
    "    return openai_ef(texts)"
   ]
  },
  {
   "cell_type": "code",
   "execution_count": 12,
   "metadata": {},
   "outputs": [],
   "source": [
    "def download_chromadb_from_s3(s3_obj, temp_dir):\n",
    "    \"\"\"Download ChromaDB files from S3 to a temporary directory\"\"\"\n",
    "    s3_prefix = \"chroma_db\"\n",
    "    s3_files = [f for f in s3_obj.list_files() if f.startswith(s3_prefix)]\n",
    "    \n",
    "    for s3_file in s3_files:\n",
    "        # Extract the relative path from the S3 key\n",
    "        relative_path = s3_file[len(s3_prefix):].lstrip('/')\n",
    "        local_path = os.path.join(temp_dir, relative_path)\n",
    "        \n",
    "        # Create the directory if it doesn't exist\n",
    "        os.makedirs(os.path.dirname(local_path), exist_ok=True)\n",
    "        \n",
    "        # Download the file from S3\n",
    "        content = s3_obj.load_s3_pdf(s3_file)\n",
    "        with open(local_path, 'wb') as f:\n",
    "            f.write(content if isinstance(content, bytes) else content.encode('utf-8'))"
   ]
  },
  {
   "cell_type": "code",
   "execution_count": 13,
   "metadata": {},
   "outputs": [],
   "source": [
    "class QueryRequest(BaseModel):\n",
    "    query_text: str\n",
    "    collection_name: str\n",
    "    n_results: int = 3\n",
    "    where_filter: Optional[Dict[str, Any]] = None"
   ]
  },
  {
   "cell_type": "code",
   "execution_count": 14,
   "metadata": {},
   "outputs": [],
   "source": [
    "def query_chromadb(request: QueryRequest):\n",
    "    # Create a temporary directory\n",
    "    # with tempfile.TemporaryDirectory() as temp_dir:\n",
    "    temp_dir = tempfile.mkdtemp()\n",
    "    try:\n",
    "        # Initialize S3 connection\n",
    "        s3_obj = S3FileManager(AWS_BUCKET_NAME, \"\")\n",
    "        \n",
    "        # Download ChromaDB files from S3\n",
    "        download_chromadb_from_s3(s3_obj, temp_dir)\n",
    "        \n",
    "        # Initialize ChromaDB client with the downloaded files\n",
    "        chroma_client = chromadb.PersistentClient(path=temp_dir)\n",
    "        \n",
    "        # Get the requested collection\n",
    "        try:\n",
    "            collection = chroma_client.get_collection(request.collection_name)\n",
    "        except Exception as e:\n",
    "            raise HTTPException(status_code=404, detail=f\"Collection not found: {str(e)}\")\n",
    "        \n",
    "        # Create embeddings for the query\n",
    "        query_embeddings = get_embeddings([request.query_text])\n",
    "        \n",
    "        # Execute the query\n",
    "        results = collection.query(\n",
    "            query_embeddings=query_embeddings,\n",
    "            n_results=request.n_results,\n",
    "            where=request.where_filter\n",
    "        )\n",
    "        \n",
    "        return {\n",
    "            \"query\": request.query_text,\n",
    "            \"results\": results\n",
    "        }\n",
    "        \n",
    "    except Exception as e:\n",
    "        raise HTTPException(status_code=500, detail=f\"Error querying ChromaDB: {str(e)}\")"
   ]
  },
  {
   "cell_type": "code",
   "execution_count": 23,
   "metadata": {},
   "outputs": [],
   "source": [
    "where_filter = {\n",
    "    \"$and\": [\n",
    "        {\"quarter\": {\"$eq\": \"Q1\"}},\n",
    "        {\"year\": {\"$eq\": \"2025\"}}\n",
    "    ]\n",
    "}\n",
    "query_request = QueryRequest(\n",
    "    query_text=\"What is NVIDIA's approach to AI?\",\n",
    "    collection_name=\"mistral_semantic\",\n",
    "    where=where_filter\n",
    ")"
   ]
  },
  {
   "cell_type": "code",
   "execution_count": 24,
   "metadata": {},
   "outputs": [
    {
     "data": {
      "text/plain": [
       "{'query': \"What is NVIDIA's approach to AI?\",\n",
       " 'results': {'ids': [['mistral_semantic_FY2025Q1_49',\n",
       "    'mistral_semantic_FY2025Q3_57',\n",
       "    'mistral_semantic_FY2025Q1_58']],\n",
       "  'embeddings': None,\n",
       "  'documents': [['Since our original focus on PC graphics, we have expanded to several other large and important computationally intensive fields. Fueled by the sustained demand for exceptional 3D graphics and the scale of the gaming market, NVIDIA has leveraged its GPU architecture to create platforms for scientific computing, AI, data science, autonomous vehicles, robotics, metaverse and 3D internet applications. Our two operating segments are \"Compute \\\\& Networking\" and \"Graphics,\" as described in Note 14 of the Notes to Condensed Consolidated Financial Statements in Part I, Item 1 of this Quarterly Report on Form 10-Q.\\n\\nHeadquartered in Santa Clara, California, NVIDIA was incorporated in California in April 1993 and reincorporated in Delaware in April 1998.\\n\\n ## Recent Developments, Future Objectives and Challenges\\n\\n## Demand and Supply, Product Transitions, and New Products and Business Models\\n\\n Our overall revenue, driven by data center compute, continued to grow through the first quarter of fiscal year 2025. We continue to gather customer demand indications across several product transitions. We have demand visibility for our data center products, including the recently announced Blackwell GPU architecture. We have previously increased our supply and capacity purchases with existing suppliers with planned receipts later this year. We continue to add new vendors and have entered and may continue to enter into prepaid manufacturing and capacity agreements to supply both current and future products. The increased purchase volumes and number of suppliers and integration of new vendors into our supply chain may create more complexity and execution risk.',\n",
       "    '## Overview\\n\\n## Our Company and Our Businesses\\n\\nNVIDIA pioneered accelerated computing to help solve the most challenging computational problems. Since our original focus on PC graphics, we have expanded to several other large and important computationally intensive fields. Fueled by the sustained demand for exceptional 3D graphics and the scale of the gaming market, NVIDIA has leveraged its GPU architecture to create platforms for scientific computing, AI, data science, autonomous vehicles, robotics, and 3D internet applications. Our two operating segments are \"Compute \\\\& Networking\" and \"Graphics,\" as described in Note 14 of the Notes to Condensed Consolidated Financial Statements in Part I, Item 1 of this Quarterly Report on Form 10-Q.\\n\\nHeadquartered in Santa Clara, California, NVIDIA was incorporated in California in April 1993 and reincorporated in Delaware in April 1998.\\n\\n ## Recent Developments, Future Objectives and Challenges\\n\\n## Demand and Supply\\n\\nRevenue growth in the third quarter of fiscal year 2025 was driven by data center compute and networking platforms for accelerated computing and Al solutions. Demand for the Hopper architecture is strong and our H200 offering grew significantly in the quarter. We completed a successful mask change for Blackwell, our next Data Center architecture, that improved production yields. Blackwell production shipments are scheduled to begin in the fourth quarter of fiscal year 2025 and will continue to ramp into fiscal year 2026. We will be shipping both Hopper and Blackwell systems in the fourth quarter of fiscal year 2025 and beyond. Both Hopper and Blackwell systems have certain supply constraints, and the demand for Blackwell is expected to exceed supply for several quarters in fiscal year 2026.\\n\\n',\n",
       "    'Sequentially, gross margin benefited from lower inventory charges.\\n\\n Operating expenses were up $39 \\\\%$ from a year ago and up $10 \\\\%$ sequentially. The increases were primarily driven by compensation and benefits, reflecting growth in employees and compensation.\\n\\n## Market Platform Highlights\\n\\nData Center revenue for the first quarter of fiscal year 2025 was $\\\\$ 22.6$ billion, up $427 \\\\%$ from a year ago and up $23 \\\\%$ from the previous quarter. In our trailing 4 quarters, we estimate that inference drove about $40 \\\\%$ of our Data Center revenue. We unveiled the NVIDIA Blackwell platform, our next-generation GPU architecture for the new era of AI computing at trillion-parameter scale and the Blackwell-powered DGX SuperPOD for generative AI supercomputing. Joining Blackwell will be NVIDIA Quantum InfiniBand and Spectrum Ethernet switches designed for massive-scale AI. We also announced NVIDIA AI Enterprise 5.0 with NVIDIA NIM Inference Microservices - to speed enterprise app development. We announced that nine new supercomputers worldwide are using Grace Hopper Superchips to ignite a new era of AI supercomputing.\\n\\n Gaming revenue for the first quarter of fiscal year 2025 was $\\\\$ 2.6$ billion, up 18\\\\% from a year ago and down $8 \\\\%$ from the previous quarter. We introduced generative AI for digital humans, NVIDIA ACE for speech and animation, and new RTX technologies; and added support for new models.\\n\\n']],\n",
       "  'uris': None,\n",
       "  'data': None,\n",
       "  'metadatas': [[{'quarter': 'Q1', 'year': '2025'},\n",
       "    {'quarter': 'Q3', 'year': '2025'},\n",
       "    {'quarter': 'Q1', 'year': '2025'}]],\n",
       "  'distances': [[0.8073488473892212, 0.8830387592315674, 0.9125547409057617]],\n",
       "  'included': [<IncludeEnum.distances: 'distances'>,\n",
       "   <IncludeEnum.documents: 'documents'>,\n",
       "   <IncludeEnum.metadatas: 'metadatas'>]}}"
      ]
     },
     "execution_count": 24,
     "metadata": {},
     "output_type": "execute_result"
    }
   ],
   "source": [
    "query_chromadb(query_request)"
   ]
  },
  {
   "cell_type": "code",
   "execution_count": null,
   "metadata": {},
   "outputs": [],
   "source": []
  }
 ],
 "metadata": {
  "kernelspec": {
   "display_name": "DAMG_RAG_1",
   "language": "python",
   "name": "python3"
  },
  "language_info": {
   "codemirror_mode": {
    "name": "ipython",
    "version": 3
   },
   "file_extension": ".py",
   "mimetype": "text/x-python",
   "name": "python",
   "nbconvert_exporter": "python",
   "pygments_lexer": "ipython3",
   "version": "3.10.0"
  }
 },
 "nbformat": 4,
 "nbformat_minor": 2
}
